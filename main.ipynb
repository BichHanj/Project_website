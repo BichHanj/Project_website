import gradio as gr
import pandas as pd
import gradio_client as Client
import requests

 
# Hàm xử lý khi có sự kiện thay đổi trên ô input
def get_data(query):
    # Gọi hàm để lấy dữ liệu từ API
    data = call_api(query)
    if data:
        # Chuyển đổi dữ liệu thành DataFrame Pandas để hiển thị dưới dạng bảng
        df = pd.DataFrame(data)
        return df
    else:
        return None
 
# Tạo Gradio Interface
iface = gr.Interface(
    fn=get_data,
    inputs=gr.Textbox(),
    outputs=gr.DataFrame()
)
 
# Chạy Gradio Interface
iface.launch(share = True)
