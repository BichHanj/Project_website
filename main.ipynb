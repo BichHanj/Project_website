{
 "cells": [
  {
   "cell_type": "code",
   "execution_count": null,
   "metadata": {},
   "outputs": [],
   "source": [
    "import gradio as gr\n",
    "import pandas as pd\n",
    "import gradio_client as Client\n",
    "import requests\n",
    " \n",
    "# Hàm để gọi API và trả về dữ liệu từ cơ sở dữ liệu\n",
    "def call_api(query):\n",
    "    api_url = \"http://127.0.0.1:7864/\"\n",
    "    params = {\"query\": query}\n",
    "    response = requests.get(api_url, params=params)\n",
    "    if response.status_code == 200:\n",
    "        data = response.json()\n",
    "        return data\n",
    "    else:\n",
    "        return None\n",
    " \n",
    "# Hàm xử lý khi có sự kiện thay đổi trên ô input\n",
    "def get_data(query):\n",
    "    # Gọi hàm để lấy dữ liệu từ API\n",
    "    data = call_api(query)\n",
    "    if data:\n",
    "        # Chuyển đổi dữ liệu thành DataFrame Pandas để hiển thị dưới dạng bảng\n",
    "        df = pd.DataFrame(data)\n",
    "        return df\n",
    "    else:\n",
    "        return None\n",
    " \n",
    "# Tạo Gradio Interface\n",
    "iface = gr.Interface(\n",
    "    fn=get_data,\n",
    "    inputs=gr.Textbox(),\n",
    "    outputs=gr.DataFrame()\n",
    ")\n",
    " \n",
    "# Chạy Gradio Interface\n",
    "iface.launch(share = True)"
   ]
  }
 ],
 "metadata": {
  "language_info": {
   "name": "python"
  }
 },
 "nbformat": 4,
 "nbformat_minor": 2
}
